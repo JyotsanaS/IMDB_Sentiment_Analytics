{
 "cells": [
  {
   "cell_type": "markdown",
   "metadata": {},
   "source": [
    "Sentiment Analysis\n",
    "Dataset: IMDB Dataset\n",
    "Link: http://ai.stanford.edu/~amaas/data/sentiment/aclImdb_v1.tar.gz"
   ]
  },
  {
   "cell_type": "markdown",
   "metadata": {},
   "source": [
    "# Phase 1: Cleaning \n",
    "\n",
    "Read the labelled data from respective folders (pos & neg) and store in data-frames (eg: train_df & test_df) with suitable structure \n",
    "Hint: columns = [review, label]"
   ]
  },
  {
   "cell_type": "code",
   "execution_count": 1,
   "metadata": {
    "collapsed": false
   },
   "outputs": [
    {
     "name": "stdout",
     "output_type": "stream",
     "text": [
      "Training Data Loading....\n",
      "                                              review  label\n",
      "0  Story of a man who has unnatural feelings for ...    0.0\n",
      "1  Airport '77 starts as a brand new luxury 747 p...    0.0\n",
      "2  This film lacked something I couldn't put my f...    0.0\n",
      "3  Sorry everyone,,, I know this is supposed to b...    0.0\n",
      "4  When I was little my parents took me along to ...    0.0\n",
      "                                                  review  label\n",
      "24995  Seeing as the vote average was pretty low, and...    1.0\n",
      "24996  The plot had some wretched, unbelievable twist...    1.0\n",
      "24997  I am amazed at how this movie(and most others ...    1.0\n",
      "24998  A Christmas Together actually came before my t...    1.0\n",
      "24999  Working-class romantic drama from director Mar...    1.0\n",
      "Test Data Loading....\n",
      "                                              review  label\n",
      "0  Once again Mr. Costner has dragged out a movie...    0.0\n",
      "1  This is an example of why the majority of acti...    0.0\n",
      "2  First of all I hate those moronic rappers, who...    0.0\n",
      "3  Not even the Beatles could write songs everyon...    0.0\n",
      "4  Brass pictures (movies is not a fitting word f...    0.0\n",
      "                                                  review  label\n",
      "24995  I was extraordinarily impressed by this film. ...    1.0\n",
      "24996  Although I'm not a golf fan, I attended a snea...    1.0\n",
      "24997  From the start of \"The Edge Of Love\", the view...    1.0\n",
      "24998  This movie, with all its complexity and subtle...    1.0\n",
      "24999  I've seen this story before but my kids haven'...    1.0\n"
     ]
    }
   ],
   "source": [
    "import pandas as pd\n",
    "import numpy as np\n",
    "import glob\n",
    "\n",
    "print(\"Training Data Loading....\")\n",
    "#Creating empty dataframe for loading training set\n",
    "train_df=pd.DataFrame(np.nan,index=[],columns=['review','label'])\n",
    "\n",
    "#Insering 0 for negative label\n",
    "files = glob.glob(\"Z:/IIITB/Analytics_vidya/Material_Code/Week 12- Capstone Project/aclImdb/train/neg/*.txt\")\n",
    "for fle in files:\n",
    "    # open the file and then call .read() to get the text \n",
    "    with open(fle) as f:\n",
    "        text = f.read()\n",
    "        train_df.loc[len(train_df)]=[text,int(0)]\n",
    "print(train_df.head(5))\n",
    "\n",
    "#Similarly inserting 1 for positive reviews\n",
    "files = glob.glob(\"Z:/IIITB/Analytics_vidya/Material_Code/Week 12- Capstone Project/aclImdb/train/pos/*.txt\")\n",
    "for fle in files:\n",
    "    # open the file and then call .read() to get the text \n",
    "    with open(fle) as f:\n",
    "        text = f.read()\n",
    "        train_df.loc[len(train_df)]=[text,int(1)]\n",
    "print(train_df.tail(5))\n",
    "\n",
    "print(\"Test Data Loading....\")\n",
    "#Loading test dataset\n",
    "test_df=pd.DataFrame(np.nan,index=[],columns=['review','label'])\n",
    "files = glob.glob(\"Z:/IIITB/Analytics_vidya/Material_Code/Week 12- Capstone Project/aclImdb/test/neg/*.txt\")\n",
    "for fle in files:\n",
    "    # open the file and then call .read() to get the text \n",
    "    with open(fle) as f:\n",
    "        text = f.read()\n",
    "        test_df.loc[len(test_df)]=[text,int(0)]\n",
    "print(test_df.head(5))\n",
    "files = glob.glob(\"Z:/IIITB/Analytics_vidya/Material_Code/Week 12- Capstone Project/aclImdb/test/pos/*.txt\")\n",
    "for fle in files:\n",
    "    # open the file and then call .read() to get the text \n",
    "    with open(fle) as f:\n",
    "        text = f.read()\n",
    "        test_df.loc[len(test_df)]=[text,int(1)]\n",
    "print(test_df.tail(5))"
   ]
  },
  {
   "cell_type": "markdown",
   "metadata": {},
   "source": [
    "Remove stop words from the data. Also, apply Stemming and Lemmatization "
   ]
  },
  {
   "cell_type": "code",
   "execution_count": 2,
   "metadata": {
    "collapsed": false
   },
   "outputs": [
    {
     "name": "stdout",
     "output_type": "stream",
     "text": [
      "                                              review  label\n",
      "0  [story, man, unnatural, feelings, pig, starts,...    0.0\n",
      "1  [airport, starts, brand, new, luxury, plane, l...    0.0\n",
      "2  [film, lacked, something, could, n't, put, fin...    0.0\n",
      "3  [sorry, everyone, know, supposed, ``, art, '',...    0.0\n",
      "4  [little, parents, took, along, theater, see, i...    0.0\n"
     ]
    }
   ],
   "source": [
    "from nltk.tokenize import word_tokenize\n",
    "from nltk.corpus import stopwords\n",
    "import string\n",
    "import nltk\n",
    "from nltk.stem import PorterStemmer\n",
    "from nltk.stem import WordNetLemmatizer\n",
    "\n",
    "lemmatizer = WordNetLemmatizer()\n",
    "ps = PorterStemmer()\n",
    "\n",
    "#nltk.download('stopwords') for downloading stopwords file\n",
    "stop_words = set(stopwords.words(\"english\"))  # load stopwords\n",
    "\n",
    "#This function converts string to lowercase, removes punctuation, removes stop words and tokenize\n",
    "def tokenize(sen):\n",
    "    sen=' '.join(s for s in sen.split() if not any(c.isdigit() for c in s))\n",
    "    sen=''.join(sen).lower().decode(\"utf-8\")\n",
    "    sen=word_tokenize(sen)\n",
    "    sen =filter(lambda x: x not in stop_words, sen)\n",
    "    sen=filter(lambda x: x not in string.punctuation, sen)\n",
    "    return sen\n",
    "\n",
    "train_df['review']=train_df['review'].apply(tokenize)\n",
    "print(train_df.head(5))"
   ]
  },
  {
   "cell_type": "code",
   "execution_count": 3,
   "metadata": {
    "collapsed": false
   },
   "outputs": [
    {
     "name": "stdout",
     "output_type": "stream",
     "text": [
      "                                              review  label\n",
      "0  [stori, man, unnatur, feel, pig, start, open, ...    0.0\n",
      "1  [airport, start, brand, new, luxuri, plane, lo...    0.0\n",
      "2  [film, lack, someth, could, n't, put, finger, ...    0.0\n",
      "3  [sorri, everyon, know, suppos, ``, art, '', fi...    0.0\n",
      "4  [littl, parent, took, along, theater, see, int...    0.0\n",
      "5  [``, appear, mani, critic, find, idea, woodi, ...    0.0\n",
      "6  [second, attempt, new, york, intellectu, le, y...    0.0\n",
      "7  [n't, know, blame, timid, writer, clueless, di...    0.0\n",
      "8  [film, mediocr, best, angi, harmon, funni, bag...    0.0\n",
      "9  [film, bad, way, say, stori, weak, outdat, esp...    0.0\n"
     ]
    }
   ],
   "source": [
    "\n",
    "def stem(sen):\n",
    "    sen=map(lambda x: lemmatizer.lemmatize(x), sen)\n",
    "    sen=map(lambda x: ps.stem(x), sen)\n",
    "    return sen\n",
    "train_df['review']=train_df['review'].apply(stem)\n",
    "print(train_df.head(10))\n"
   ]
  },
  {
   "cell_type": "markdown",
   "metadata": {},
   "source": [
    "# Phase 2 Exploration \n"
   ]
  },
  {
   "cell_type": "markdown",
   "metadata": {},
   "source": [
    "For labelled data, find the most common words associated with each category (positive & negative)"
   ]
  },
  {
   "cell_type": "code",
   "execution_count": 4,
   "metadata": {
    "collapsed": false
   },
   "outputs": [
    {
     "name": "stdout",
     "output_type": "stream",
     "text": [
      "br: 52343\n",
      "'s: 29077\n",
      "movi: 27994\n",
      "film: 22052\n",
      "n't: 19956\n",
      "``: 16967\n",
      "'': 16712\n",
      "one: 13025\n",
      "like: 12057\n",
      "make: 7849\n",
      "even: 7752\n",
      "would: 7669\n",
      "get: 7613\n",
      "good: 7293\n",
      "watch: 7271\n",
      "time: 7268\n",
      "bad: 7148\n",
      "...: 7139\n",
      "charact: 6962\n",
      "see: 6563\n",
      "realli: 6228\n",
      "go: 6171\n",
      "could: 5690\n",
      "look: 5665\n",
      "stori: 5485\n",
      "scene: 5456\n",
      "act: 5144\n",
      "much: 4990\n",
      "peopl: 4786\n",
      "end: 4783\n",
      "thing: 4633\n",
      "think: 4586\n",
      "made: 4354\n",
      "first: 4245\n",
      "show: 4184\n",
      "plot: 4157\n",
      "say: 4156\n",
      "way: 4128\n",
      "seem: 4045\n",
      "well: 3909\n",
      "know: 3844\n",
      "tri: 3821\n",
      "want: 3672\n",
      "also: 3580\n",
      "play: 3567\n",
      "actor: 3489\n",
      "come: 3278\n",
      "better: 3261\n",
      "never: 3234\n",
      "seen: 3200\n"
     ]
    }
   ],
   "source": [
    "# Top negative words\n",
    "posts=train_df.loc[(train_df.label==0,'review')]\n",
    "#print(posts.iloc[24999])\n",
    "#print posts\n",
    "from collections import defaultdict\n",
    "freq_dict_neg = defaultdict(int)\n",
    "\n",
    "for tokens in posts:\n",
    "    for token in tokens:\n",
    "        freq_dict_neg[token] += 1\n",
    "#top = sorted(freq_dict, key=freq_dict.get, reverse=True)\n",
    "for key in sorted(freq_dict_neg,key=freq_dict_neg.get, reverse=True)[:50]:\n",
    "    print \"%s: %s\" % (key, freq_dict_neg[key])"
   ]
  },
  {
   "cell_type": "code",
   "execution_count": 5,
   "metadata": {
    "collapsed": false
   },
   "outputs": [
    {
     "name": "stdout",
     "output_type": "stream",
     "text": [
      "br: 48848\n",
      "'s: 30983\n",
      "film: 24551\n",
      "movi: 21965\n",
      "'': 15743\n",
      "``: 15466\n",
      "one: 13768\n",
      "n't: 13418\n",
      "like: 10182\n",
      "time: 7941\n",
      "good: 7553\n",
      "see: 7311\n",
      "stori: 7235\n",
      "charact: 6905\n",
      "make: 6677\n",
      "get: 6427\n",
      "watch: 6406\n",
      "great: 6384\n",
      "love: 5971\n",
      "well: 5906\n",
      "would: 5712\n",
      "also: 5512\n",
      "show: 5485\n",
      "realli: 5453\n",
      "go: 5309\n",
      "even: 5092\n",
      "play: 5011\n",
      "scene: 4846\n",
      "...: 4829\n",
      "life: 4749\n",
      "first: 4632\n",
      "much: 4617\n",
      "peopl: 4484\n",
      "end: 4466\n",
      "way: 4383\n",
      "think: 4255\n",
      "best: 4240\n",
      "look: 4046\n",
      "work: 3791\n",
      "year: 3762\n",
      "mani: 3762\n",
      "could: 3676\n",
      "made: 3659\n",
      "two: 3608\n",
      "perform: 3558\n",
      "know: 3557\n",
      "thing: 3443\n",
      "take: 3385\n",
      "seen: 3364\n",
      "come: 3355\n"
     ]
    }
   ],
   "source": [
    "# Top positive words\n",
    "posts=train_df.loc[(train_df.label==1,'review')]\n",
    "\n",
    "from collections import defaultdict\n",
    "freq_dict_pos = defaultdict(int)\n",
    "\n",
    "for tokens in posts:\n",
    "    for token in tokens:\n",
    "        freq_dict_pos[token] += 1\n",
    "#top = sorted(freq_dict, key=freq_dict.get, reverse=True)\n",
    "for key in sorted(freq_dict_pos,key=freq_dict_pos.get, reverse=True)[:50]:\n",
    "    print \"%s: %s\" % (key, freq_dict_pos[key])"
   ]
  },
  {
   "cell_type": "markdown",
   "metadata": {},
   "source": [
    "Discover the lowest frequency and highest frequency words"
   ]
  },
  {
   "cell_type": "code",
   "execution_count": 6,
   "metadata": {
    "collapsed": false
   },
   "outputs": [
    {
     "name": "stdout",
     "output_type": "stream",
     "text": [
      "br: 101191\n",
      "boo': 1\n"
     ]
    }
   ],
   "source": [
    "posts=train_df['review']\n",
    "\n",
    "from collections import defaultdict\n",
    "freq_dict = defaultdict(int)\n",
    "\n",
    "for tokens in posts:\n",
    "    for token in tokens:\n",
    "        freq_dict[token] += 1\n",
    "top = sorted(freq_dict, key=freq_dict.get, reverse=True)\n",
    "print \"%s: %s\" % (top[0], freq_dict[top[0]])\n",
    "print \"%s: %s\" % (top[len(top)-1], freq_dict[top[len(top)-1]])"
   ]
  },
  {
   "cell_type": "markdown",
   "metadata": {},
   "source": [
    "Classify each words along with its frequency with the review it is connected to and also merging the same with that particular movie. "
   ]
  },
  {
   "cell_type": "markdown",
   "metadata": {},
   "source": [
    "# Phase 3 Visualization \n",
    "Create a wordcloud with positive and negative words after cleansing\n",
    "Visualise the positive and negative words distribution (Hint: Histogram)\n",
    "Visualise the movies with the high frequency keywords (Hint: Scatter plot)"
   ]
  },
  {
   "cell_type": "code",
   "execution_count": null,
   "metadata": {
    "collapsed": false
   },
   "outputs": [],
   "source": [
    "# WordClouds: negative and positive\n",
    "from wordcloud import WordCloud\n",
    "neg_list = train_df[train_df[\"label\"] == 0][\"review\"].unique().tolist()\n",
    "neg = \" \".join(neg_list)\n",
    "neg_wordcloud = WordCloud().generate(neg)\n",
    "import matplotlib.pyplot as plt\n",
    "%matplotlib inline\n",
    "plt.figure()\n",
    "plt.imshow(neg_wordcloud)\n",
    "plt.show()\n",
    "\n",
    "from wordcloud import WordCloud\n",
    "pos_list = train_df[train_df[\"label\"] == 1][\"review\"].unique().tolist()\n",
    "pos = \" \".join(neg_list)\n",
    "pos_wordcloud = WordCloud().generate(pos)\n",
    "import matplotlib.pyplot as plt\n",
    "%matplotlib inline\n",
    "plt.figure()\n",
    "plt.imshow(neg_wordcloud)\n",
    "plt.show()"
   ]
  },
  {
   "cell_type": "code",
   "execution_count": 7,
   "metadata": {
    "collapsed": false
   },
   "outputs": [
    {
     "data": {
      "image/png": "[encoded data removed]",
      "text/plain": [
       "<matplotlib.figure.Figure at 0x17cf4b70>"
      ]
     },
     "metadata": {},
     "output_type": "display_data"
    },
    {
     "data": {
      "image/png": "[encoded data removed]",
      "text/plain": [
       "<matplotlib.figure.Figure at 0x6913f28>"
      ]
     },
     "metadata": {},
     "output_type": "display_data"
    }
   ],
   "source": [
    "# Histogram: negative and positive\n",
    "\n",
    "import matplotlib.pyplot as plt\n",
    "top_neg=dict((key, value) for key, value in freq_dict_neg.items() if value > 6000)\n",
    "plt.bar(range(len(top_neg)), top_neg.values(), align='center')\n",
    "plt.xticks(range(len(top_neg)), top_neg.keys())\n",
    "plt.show()\n",
    "\n",
    "top_pos=dict((key, value) for key, value in freq_dict_pos.items() if value > 6000)\n",
    "plt.bar(range(len(top_pos)), top_pos.values(), align='center')\n",
    "plt.xticks(range(len(top_pos)), top_pos.keys())\n",
    "plt.show()"
   ]
  },
  {
   "cell_type": "markdown",
   "metadata": {},
   "source": [
    "# Phase 4 Hypothesis creation and testing\n",
    "\n",
    "Create Hypothesis involving relationships between dependent and independent variables using parametric/non parametric tests for various machine learning algorithms such as k-means clustering,  classification algorithms ."
   ]
  },
  {
   "cell_type": "markdown",
   "metadata": {},
   "source": [
    "# Phase 5 Model Building\n",
    "\n",
    "Supervised Learning: Build a sentiment analysis model to predict positive and negative classes"
   ]
  },
  {
   "cell_type": "code",
   "execution_count": 8,
   "metadata": {
    "collapsed": false
   },
   "outputs": [
    {
     "name": "stdout",
     "output_type": "stream",
     "text": [
      "0    stori man unnatur feel pig start open scene te...\n",
      "1    airport start brand new luxuri plane load valu...\n",
      "2    film lack someth could n't put finger first ch...\n",
      "3    sorri everyon know suppos `` art '' film wow h...\n",
      "4    littl parent took along theater see interior o...\n",
      "Name: review, dtype: object\n"
     ]
    }
   ],
   "source": [
    "#Merge back\n",
    "def merge_token(sen):\n",
    "    sen=' '.join(s for s in sen)\n",
    "    return sen\n",
    "\n",
    "train_df_test=train_df['review'].apply(merge_token)\n",
    "print(train_df_test.head(5))"
   ]
  },
  {
   "cell_type": "code",
   "execution_count": 9,
   "metadata": {
    "collapsed": false
   },
   "outputs": [],
   "source": [
    "#using numpy create count vectors for the text data using bag of words\n",
    "from sklearn.feature_extraction.text import CountVectorizer\n",
    "\n",
    "# create an instance\n",
    "count_vect = CountVectorizer()\n",
    "count_vect.fit(train_df_test.tolist())\n",
    "X = count_vect.transform(train_df_test)\n"
   ]
  },
  {
   "cell_type": "code",
   "execution_count": 10,
   "metadata": {
    "collapsed": false
   },
   "outputs": [
    {
     "data": {
      "text/plain": [
       "MultinomialNB(alpha=1.0, class_prior=None, fit_prior=True)"
      ]
     },
     "execution_count": 10,
     "metadata": {},
     "output_type": "execute_result"
    }
   ],
   "source": [
    "#fit the naive bayes model with above vectors and compare the accuracy with existing model\n",
    "from sklearn.naive_bayes import MultinomialNB\n",
    "from sklearn.cross_validation import train_test_split\n",
    "X_train, X_test, y_train, y_test = train_test_split(X, train_df['label'], test_size=0.25, random_state=0)\n",
    "clf = MultinomialNB()\n",
    "clf.fit(X_train, y_train)"
   ]
  },
  {
   "cell_type": "code",
   "execution_count": 11,
   "metadata": {
    "collapsed": false
   },
   "outputs": [
    {
     "data": {
      "text/plain": [
       "0.84784000000000004"
      ]
     },
     "execution_count": 11,
     "metadata": {},
     "output_type": "execute_result"
    }
   ],
   "source": [
    "predictions = clf.predict(X_test)\n",
    "predictions.shape\n",
    "from sklearn.metrics import accuracy_score\n",
    "accuracy = accuracy_score(y_test, predictions)\n",
    "accuracy"
   ]
  },
  {
   "cell_type": "markdown",
   "metadata": {},
   "source": [
    "Unsupervised Learning: Build a clustering model consisting of 2 clusters based on positive and negative reviews "
   ]
  },
  {
   "cell_type": "code",
   "execution_count": null,
   "metadata": {
    "collapsed": false
   },
   "outputs": [],
   "source": [
    "from sklearn.cluster import KMeans\n",
    "y=train_df['label'].values\n",
    "kmeans = KMeans(n_clusters=2, random_state=0)\n",
    "kmeans.fit(X)\n",
    "import matplotlib.pyplot as plt\n",
    "%matplotlib inline\n",
    "colors = ['red', 'blue']\n",
    "pred_colors = [colors[label] for label in kmeans.labels_]\n",
    "X_nz=X.nonzero()\n",
    "\n",
    "plt.scatter(X_nz[1], X.data, c=pred_colors)\n",
    "plt.title('KMeans clusters')"
   ]
  },
  {
   "cell_type": "code",
   "execution_count": 12,
   "metadata": {
    "collapsed": true
   },
   "outputs": [],
   "source": [
    "from sklearn.feature_extraction.text import TfidfVectorizer\n",
    "tfidf_vectorizer = TfidfVectorizer(use_idf=True)\n",
    "tfidf_matrix = tfidf_vectorizer.fit_transform(train_df_test)  "
   ]
  },
  {
   "cell_type": "code",
   "execution_count": 13,
   "metadata": {
    "collapsed": true
   },
   "outputs": [],
   "source": [
    "feature_names = tfidf_vectorizer.get_feature_names()"
   ]
  },
  {
   "cell_type": "code",
   "execution_count": 16,
   "metadata": {
    "collapsed": false
   },
   "outputs": [],
   "source": [
    "from sklearn.cluster import KMeans  \n",
    "num_clusters = 2  \n",
    "km = KMeans(n_clusters=num_clusters)  \n",
    "km.fit(tfidf_matrix)  \n",
    "clusters = km.labels_.tolist() "
   ]
  },
  {
   "cell_type": "code",
   "execution_count": 23,
   "metadata": {
    "collapsed": false
   },
   "outputs": [
    {
     "name": "stdout",
     "output_type": "stream",
     "text": [
      "Accuracy:0.523520\n"
     ]
    }
   ],
   "source": [
    "from sklearn.metrics import accuracy_score\n",
    "score = accuracy_score(train_df['label'],clusters)\n",
    "print('Accuracy:{0:f}'.format(score))"
   ]
  }
 ],
 "metadata": {
  "anaconda-cloud": {},
  "celltoolbar": "Raw Cell Format",
  "kernelspec": {
   "display_name": "Python [conda env:opencv3]",
   "language": "python",
   "name": "conda-env-opencv3-py"
  },
  "language_info": {
   "codemirror_mode": {
    "name": "ipython",
    "version": 2
   },
   "file_extension": ".py",
   "mimetype": "text/x-python",
   "name": "python",
   "nbconvert_exporter": "python",
   "pygments_lexer": "ipython2",
   "version": "2.7.12"
  }
 },
 "nbformat": 4,
 "nbformat_minor": 1
}
